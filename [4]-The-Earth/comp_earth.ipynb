{
 "cells": [
  {
   "cell_type": "markdown",
   "metadata": {},
   "source": [
    "# Planeta Terra"
   ]
  },
  {
   "cell_type": "code",
   "execution_count": 26,
   "metadata": {},
   "outputs": [],
   "source": [
    "# Bibliotecas necessárias\n",
    "import math\n",
    "import datetime\n",
    "import numpy as np\n",
    "import spiceypy"
   ]
  },
  {
   "cell_type": "markdown",
   "metadata": {},
   "source": [
    "Defição de uma data para pesquisa de dados"
   ]
  },
  {
   "cell_type": "code",
   "execution_count": 8,
   "metadata": {},
   "outputs": [
    {
     "name": "stdout",
     "output_type": "stream",
     "text": [
      "2024-07-15T00:00:00\n"
     ]
    }
   ],
   "source": [
    "date_today = datetime.datetime.today()\n",
    "date_today = date_today.strftime(\"%Y-%m-%dT00:00:00\")\n",
    "print(date_today)"
   ]
  },
  {
   "cell_type": "markdown",
   "metadata": {},
   "source": [
    "Conversão da data para o formato et (Ephemeris time)\n",
    "\n",
    "Carregamento dos arquivos de kernel"
   ]
  },
  {
   "cell_type": "code",
   "execution_count": 9,
   "metadata": {},
   "outputs": [],
   "source": [
    "spiceypy.furnsh(\"../kernels/lsk/naif0012.tls\")\n",
    "spiceypy.furnsh(\"../kernels/spk/de432s.bsp\")"
   ]
  },
  {
   "cell_type": "code",
   "execution_count": 10,
   "metadata": {},
   "outputs": [
    {
     "name": "stdout",
     "output_type": "stream",
     "text": [
      "774273669.1837175\n"
     ]
    }
   ],
   "source": [
    "et_today_midnight = spiceypy.utc2et(date_today)\n",
    "print(et_today_midnight)"
   ]
  },
  {
   "cell_type": "markdown",
   "metadata": {},
   "source": [
    "Vetor contendo as informações do objeto celeste"
   ]
  },
  {
   "cell_type": "code",
   "execution_count": 11,
   "metadata": {},
   "outputs": [
    {
     "name": "stdout",
     "output_type": "stream",
     "text": [
      "[ 5.86258489e+07 -1.40302274e+08  7.73329013e+03  2.69945852e+01\n",
      "  1.13811546e+01  1.45236303e-04]\n"
     ]
    }
   ],
   "source": [
    "earth_state_wrt_sun, earth_sun_light_time = spiceypy.spkgeo(targ=399, et=et_today_midnight, ref=\"ECLIPJ2000\", obs=10)\n",
    "\n",
    "print(earth_state_wrt_sun)"
   ]
  },
  {
   "cell_type": "code",
   "execution_count": 35,
   "metadata": {},
   "outputs": [
    {
     "data": {
      "text/plain": [
       "152058273.0804289"
      ]
     },
     "execution_count": 35,
     "metadata": {},
     "output_type": "execute_result"
    }
   ],
   "source": [
    "distance_to_sun = float(np.sqrt(np.sum([earth_state_wrt_sun[_]**2.0 for _ in range(3)])))\n",
    "distance_to_sun"
   ]
  },
  {
   "cell_type": "code",
   "execution_count": 36,
   "metadata": {},
   "outputs": [
    {
     "data": {
      "text/plain": [
       "1.016446774654257"
      ]
     },
     "execution_count": 36,
     "metadata": {},
     "output_type": "execute_result"
    }
   ],
   "source": [
    "earth_sun_sistance_au = spiceypy.convrt(distance_to_sun, \"km\", \"au\")\n",
    "earth_sun_sistance_au"
   ]
  },
  {
   "cell_type": "code",
   "execution_count": null,
   "metadata": {},
   "outputs": [],
   "source": []
  }
 ],
 "metadata": {
  "kernelspec": {
   "display_name": "astro39",
   "language": "python",
   "name": "python3"
  },
  "language_info": {
   "codemirror_mode": {
    "name": "ipython",
    "version": 3
   },
   "file_extension": ".py",
   "mimetype": "text/x-python",
   "name": "python",
   "nbconvert_exporter": "python",
   "pygments_lexer": "ipython3",
   "version": "3.9.7"
  }
 },
 "nbformat": 4,
 "nbformat_minor": 2
}
